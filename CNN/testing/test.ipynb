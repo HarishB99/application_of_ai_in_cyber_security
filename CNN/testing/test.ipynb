{
 "cells": [
  {
   "cell_type": "code",
   "execution_count": 1,
   "metadata": {},
   "outputs": [
    {
     "name": "stderr",
     "output_type": "stream",
     "text": [
      "Using TensorFlow backend.\n"
     ]
    }
   ],
   "source": [
    "import os, sys, time, subprocess\n",
    "import numpy as np\n",
    "import pandas as pd\n",
    "from PIL import Image\n",
    "from keras import models\n",
    "from keras import backend as K\n",
    "from keras.preprocessing import image\n",
    "\n",
    "sys.path.insert(0, os.path.abspath('../utils/'))\n",
    "import util as utils"
   ]
  },
  {
   "cell_type": "code",
   "execution_count": 2,
   "metadata": {},
   "outputs": [],
   "source": [
    "# Some memory clean-up\n",
    "K.clear_session()"
   ]
  },
  {
   "cell_type": "code",
   "execution_count": 3,
   "metadata": {},
   "outputs": [],
   "source": [
    "os.environ['TF_CPP_MIN_LOG_LEVEL'] = '3'"
   ]
  },
  {
   "cell_type": "code",
   "execution_count": 4,
   "metadata": {},
   "outputs": [],
   "source": [
    "def convert_bytecodes_to_images(bytecodes_files, bytecodes_dir, test_case_images_dir):\n",
    "    if not os.path.exists(test_case_images_dir):\n",
    "        os.mkdir(test_case_images_dir)\n",
    "    \n",
    "    image_set = []\n",
    "\n",
    "    start_convert_images = time.monotonic()\n",
    "\n",
    "    for filename in bytecodes_files:\n",
    "        image_set.append([ utils.byte2img(os.path.join(bytecodes_dir, filename+'.bytes')), filename ])\n",
    "\n",
    "    end_convert_images = time.monotonic()\n",
    "    \n",
    "    print('Time taken to convert bytecodes to images: ', (end_convert_images - start_convert_images))\n",
    "    print('Number of images converted: ', len(image_set))\n",
    "    print()\n",
    "    \n",
    "    for image in image_set:\n",
    "        utils.resize_from_img(image[0], os.path.join(test_case_images_dir, image[1]+'.png'))"
   ]
  },
  {
   "cell_type": "code",
   "execution_count": 5,
   "metadata": {},
   "outputs": [],
   "source": [
    "def load_images_for_prediction(bytecodes_files, test_case_images_dir):\n",
    "    test_case_images = [ utils.load_image_as_np(os.path.join(test_case_images_dir, (filename+'.png'))) for filename in bytecodes_files ]\n",
    "    test_case_images_set = np.asarray(test_case_images)\n",
    "    test_case_images_set = test_case_images_set.astype('float32') / 255\n",
    "    return test_case_images_set"
   ]
  },
  {
   "cell_type": "code",
   "execution_count": 6,
   "metadata": {},
   "outputs": [],
   "source": [
    "def load_model(model_file):\n",
    "    return models.load_model(model_file)"
   ]
  },
  {
   "cell_type": "code",
   "execution_count": 7,
   "metadata": {},
   "outputs": [
    {
     "data": {
      "text/plain": [
       "0"
      ]
     },
     "execution_count": 7,
     "metadata": {},
     "output_type": "execute_result"
    }
   ],
   "source": [
    "subprocess.call('./convert_exe_to_bytes.sh')"
   ]
  },
  {
   "cell_type": "code",
   "execution_count": 8,
   "metadata": {},
   "outputs": [],
   "source": [
    "model_file = '../final_trained_model.h5'\n",
    "bytecodes_dir = './test_cases/'\n",
    "test_case_images_dir = os.path.abspath('./test_case_images/')"
   ]
  },
  {
   "cell_type": "code",
   "execution_count": 9,
   "metadata": {},
   "outputs": [],
   "source": [
    "bytecodes_files = [ os.path.splitext(os.path.basename(file))[0] for file in sorted(os.listdir(bytecodes_dir)) ]"
   ]
  },
  {
   "cell_type": "code",
   "execution_count": 10,
   "metadata": {},
   "outputs": [
    {
     "name": "stdout",
     "output_type": "stream",
     "text": [
      "Time taken to convert bytecodes to images:  3.6893702630000007\n",
      "Number of images converted:  2\n",
      "\n"
     ]
    },
    {
     "name": "stderr",
     "output_type": "stream",
     "text": [
      "/home/student/anaconda3/lib/python3.6/site-packages/keras_preprocessing/image/utils.py:98: UserWarning: grayscale is deprecated. Please use color_mode = \"grayscale\"\n",
      "  warnings.warn('grayscale is deprecated. Please use '\n"
     ]
    }
   ],
   "source": [
    "convert_bytecodes_to_images(bytecodes_files, bytecodes_dir, test_case_images_dir)\n",
    "test_case_images_set = load_images_for_prediction(bytecodes_files, test_case_images_dir)\n",
    "model = load_model(model_file)"
   ]
  },
  {
   "cell_type": "code",
   "execution_count": 11,
   "metadata": {},
   "outputs": [],
   "source": [
    "predicted_labels = model.predict_classes(test_case_images_set, batch_size=128)"
   ]
  },
  {
   "cell_type": "code",
   "execution_count": 12,
   "metadata": {},
   "outputs": [],
   "source": [
    "label_mapping = { label: family for label, family in pd.read_csv('./label_mapping.csv').get_values() }"
   ]
  },
  {
   "cell_type": "code",
   "execution_count": 13,
   "metadata": {},
   "outputs": [],
   "source": [
    "predicted_labels_mapped = [ label_mapping.get(label, label) for label in predicted_labels ]"
   ]
  },
  {
   "cell_type": "code",
   "execution_count": 14,
   "metadata": {},
   "outputs": [],
   "source": [
    "final_predicted_labels = [ [bytecodes_files[i], label] for i, label in enumerate(predicted_labels_mapped) ]"
   ]
  },
  {
   "cell_type": "code",
   "execution_count": 15,
   "metadata": {},
   "outputs": [
    {
     "name": "stdout",
     "output_type": "stream",
     "text": [
      "Filename:  WannaCryVirus.bytes\n",
      "Predicted malware family:  Gatak\n",
      "\n",
      "Filename:  chrome.bytes\n",
      "Predicted malware family:  Ramnit\n",
      "\n"
     ]
    }
   ],
   "source": [
    "for final_predicted_label in final_predicted_labels:\n",
    "    print('Filename: ', (final_predicted_label[0]+'.bytes'))\n",
    "    print('Predicted malware family: ', (final_predicted_label[1]))\n",
    "    print()"
   ]
  }
 ],
 "metadata": {
  "kernelspec": {
   "display_name": "Python 3",
   "language": "python",
   "name": "python3"
  },
  "language_info": {
   "codemirror_mode": {
    "name": "ipython",
    "version": 3
   },
   "file_extension": ".py",
   "mimetype": "text/x-python",
   "name": "python",
   "nbconvert_exporter": "python",
   "pygments_lexer": "ipython3",
   "version": "3.6.8"
  }
 },
 "nbformat": 4,
 "nbformat_minor": 2
}
