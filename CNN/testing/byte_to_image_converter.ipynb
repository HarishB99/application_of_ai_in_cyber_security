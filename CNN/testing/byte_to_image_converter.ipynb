{
 "cells": [
  {
   "cell_type": "code",
   "execution_count": null,
   "metadata": {},
   "outputs": [],
   "source": [
    "import os, sys, time, subprocess, argparse, logging, traceback, itertools\n",
    "import numpy as np\n",
    "import pandas as pd\n",
    "from glob import glob\n",
    "from PIL import Image\n",
    "from keras import backend as K\n",
    "from keras.preprocessing import image"
   ]
  },
  {
   "cell_type": "code",
   "execution_count": null,
   "metadata": {},
   "outputs": [],
   "source": [
    "# Some memory clean-up\n",
    "K.clear_session()"
   ]
  },
  {
   "cell_type": "code",
   "execution_count": null,
   "metadata": {},
   "outputs": [],
   "source": [
    "os.environ['TF_CPP_MIN_LOG_LEVEL'] = '3'"
   ]
  },
  {
   "cell_type": "code",
   "execution_count": null,
   "metadata": {},
   "outputs": [],
   "source": [
    "def byte2img(filename):\n",
    "    \"\"\"\n",
    "        - Plots given bytecode file (consisting hexadecimal numbers without the PE header) to grayscale images\n",
    "        - params\n",
    "            - filename - the path to the bytecode file to be converted\n",
    "        - return\n",
    "            - img - An instance of a PIL Image representing the converted grayscale image\n",
    "    \"\"\"\n",
    "    try:\n",
    "        with open(filename, 'r') as f:\n",
    "            arr = []\n",
    "            for line in f:\n",
    "                vals = line.split()\n",
    "                del vals[0]\n",
    "                arr.append(vals)\n",
    "            \n",
    "            max_len = max([len(vals) for vals in arr])\n",
    "            \n",
    "            new_arr = []\n",
    "            for vals in arr:\n",
    "                new_arr.append([val.replace('?', '0') for val in vals])\n",
    "            \n",
    "            for vals in new_arr:\n",
    "                if '?' in vals:\n",
    "                    print(vals)\n",
    "            \n",
    "            hexstring = ''.join(list(itertools.chain.from_iterable(new_arr)))\n",
    "            \n",
    "            byte_arr = bytearray.fromhex(hexstring)\n",
    "            width = 1024\n",
    "            rem = len(byte_arr) % width\n",
    "            byte_arr_len = len(byte_arr) - rem\n",
    "            byte_arr = byte_arr[:byte_arr_len]\n",
    "            byte_arr = np.asarray(byte_arr)\n",
    "            np_arr = np.reshape(byte_arr, (len(byte_arr)//width, width))\n",
    "            np_arr = np.uint8(np_arr)\n",
    "            img = Image.fromarray(np_arr)\n",
    "            return img\n",
    "    except Exception as error:\n",
    "        logging.error(traceback.format_exc())"
   ]
  },
  {
   "cell_type": "code",
   "execution_count": null,
   "metadata": {},
   "outputs": [],
   "source": [
    "def resize_from_img(img, imgname, size=(128, 128)):\n",
    "    \"\"\"\n",
    "        - Resize an existing PIL Image instance to the specified size and save it to the filesystem\n",
    "        - params\n",
    "            - img - An instance of the PIL Image\n",
    "            - imgname - the path to the image file to write to (The directory should exist - The image need not exist)\n",
    "            - size - the dimension to resize the image to in the format (width, height) - default is 128 by 128\n",
    "        - return\n",
    "            - None\n",
    "    \"\"\"\n",
    "    try:\n",
    "        img = img.resize(size, Image.LANCZOS)\n",
    "        img.save(imgname)\n",
    "    except Exception as error:\n",
    "        logging.error(traceback.format_exc())"
   ]
  },
  {
   "cell_type": "code",
   "execution_count": null,
   "metadata": {},
   "outputs": [],
   "source": [
    "def valid_dir(dir_string):\n",
    "    if not os.path.isdir(dir_string):\n",
    "        msg = \"%r is not a valid directory\" % dir_string\n",
    "        raise argparse.ArgumentTypeError(msg)\n",
    "    else:\n",
    "        bytecode_files = []\n",
    "        for filename in os.listdir(dir_string):\n",
    "            if filename.endswith('.bytes'):\n",
    "                bytecode_files.append(filename)\n",
    "        if len(bytecode_files) < 1:\n",
    "            msg = \"%r does not contain bytecode files (.bytes)\" % dir_string\n",
    "            raise argparse.ArgumentTypeError(msg)\n",
    "        return dir_string"
   ]
  },
  {
   "cell_type": "code",
   "execution_count": null,
   "metadata": {},
   "outputs": [],
   "source": [
    "def convert_bytecodes_to_images(bytecode_files, bytecodes_dir, test_case_images_dir):\n",
    "    if not os.path.exists(test_case_images_dir):\n",
    "        os.mkdir(test_case_images_dir)\n",
    "    \n",
    "    image_set = []\n",
    "\n",
    "    start_convert_images = time.monotonic()\n",
    "\n",
    "    for filename in bytecode_files:\n",
    "        image_set.append([ byte2img(os.path.join(bytecodes_dir, filename+'.bytes')), filename ])\n",
    "\n",
    "    end_convert_images = time.monotonic()\n",
    "    \n",
    "    print()\n",
    "    print('Time taken to convert bytecodes to images and save them to filesystem (in seconds): ', (end_convert_images - start_convert_images))\n",
    "    print('Number of images converted: ', len(image_set))\n",
    "    print()\n",
    "    \n",
    "    for image in image_set:\n",
    "        resize_from_img(image[0], os.path.join(test_case_images_dir, image[1]+'.png'))"
   ]
  },
  {
   "cell_type": "code",
   "execution_count": null,
   "metadata": {},
   "outputs": [],
   "source": [
    "cmd_args_parser = argparse.ArgumentParser()\n",
    "cmd_args_parser.add_argument('-d', '--directory', '--dir', required=True, type=valid_dir, metavar='directory')"
   ]
  },
  {
   "cell_type": "code",
   "execution_count": null,
   "metadata": {},
   "outputs": [],
   "source": [
    "# This code segment is only for Python notebooks\n",
    "# as it is not possible to pass arguments to Python \n",
    "# notebooks the way it will be done to Python scripts\n",
    "\n",
    "# The directory passed to the program can be set in \n",
    "# the string in the following line.\n",
    "\n",
    "arguments_list = \"-d /data/bytecodes/dataset1\".split()\n",
    "cmd_args = cmd_args_parser.parse_args(arguments_list)"
   ]
  },
  {
   "cell_type": "code",
   "execution_count": null,
   "metadata": {},
   "outputs": [],
   "source": [
    "bytecodes_dir = cmd_args.directory\n",
    "test_case_images_dir = os.path.join(bytecodes_dir, 'images')"
   ]
  },
  {
   "cell_type": "code",
   "execution_count": null,
   "metadata": {},
   "outputs": [],
   "source": [
    "bytecode_files = [ os.path.splitext(os.path.basename(file))[0] for file in sorted( glob( os.path.abspath(bytecodes_dir)+'/*.bytes' ) ) ]"
   ]
  },
  {
   "cell_type": "code",
   "execution_count": null,
   "metadata": {},
   "outputs": [],
   "source": [
    "convert_bytecodes_to_images(bytecode_files, bytecodes_dir, test_case_images_dir)"
   ]
  }
 ],
 "metadata": {
  "kernelspec": {
   "display_name": "Python 3",
   "language": "python",
   "name": "python3"
  },
  "language_info": {
   "codemirror_mode": {
    "name": "ipython",
    "version": 3
   },
   "file_extension": ".py",
   "mimetype": "text/x-python",
   "name": "python",
   "nbconvert_exporter": "python",
   "pygments_lexer": "ipython3",
   "version": "3.6.8"
  }
 },
 "nbformat": 4,
 "nbformat_minor": 2
}
