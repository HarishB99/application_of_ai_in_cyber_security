{
 "cells": [
  {
   "cell_type": "code",
   "execution_count": 1,
   "metadata": {},
   "outputs": [
    {
     "name": "stderr",
     "output_type": "stream",
     "text": [
      "Using TensorFlow backend.\n"
     ]
    }
   ],
   "source": [
    "import os, sys, time, subprocess, argparse, logging, traceback, itertools, shutil\n",
    "import numpy as np\n",
    "import pandas as pd\n",
    "from glob import glob\n",
    "from PIL import Image\n",
    "from keras import models\n",
    "from keras import backend as K\n",
    "from keras.preprocessing import image"
   ]
  },
  {
   "cell_type": "code",
   "execution_count": 2,
   "metadata": {},
   "outputs": [],
   "source": [
    "# Some memory clean-up\n",
    "K.clear_session()"
   ]
  },
  {
   "cell_type": "code",
   "execution_count": 3,
   "metadata": {},
   "outputs": [],
   "source": [
    "os.environ['TF_CPP_MIN_LOG_LEVEL'] = '3'"
   ]
  },
  {
   "cell_type": "code",
   "execution_count": 4,
   "metadata": {},
   "outputs": [],
   "source": [
    "label_mapping = {\n",
    "    0: 'Ramnit',\n",
    "    1: 'Lollipop',\n",
    "    2: 'Kelihos_ver3',\n",
    "    3: 'Vundo',\n",
    "    4: 'Simda',\n",
    "    5: 'Tracur',\n",
    "    6: 'Kelihos_ver1',\n",
    "    7: 'Obfuscator.ACY',\n",
    "    8: 'Gatak'\n",
    "}"
   ]
  },
  {
   "cell_type": "code",
   "execution_count": 5,
   "metadata": {},
   "outputs": [],
   "source": [
    "def load_image_as_np(filename):\n",
    "    \"\"\"\n",
    "        - Loads an image from the filesystem as a 3D numpy array\n",
    "        - params\n",
    "            - filename - the path to the image file to be loaded\n",
    "        - return\n",
    "            - a 3D numpy array representing the loaded image\n",
    "    \"\"\"\n",
    "    try:\n",
    "        img = image.load_img(filename, color_mode='grayscale')  # for newer versions, use \"color_mode='grayscale'\"; For older versions, use \"grayscale=True\"\n",
    "        return np.atleast_3d(img)\n",
    "    except Exception as error:\n",
    "        logging.error(traceback.format_exc())"
   ]
  },
  {
   "cell_type": "code",
   "execution_count": 6,
   "metadata": {},
   "outputs": [],
   "source": [
    "def valid_dir(dir_string):\n",
    "    if not os.path.isdir(dir_string):\n",
    "        msg = \"%r is not a valid directory\" % dir_string\n",
    "        raise argparse.ArgumentTypeError(msg)\n",
    "    else:\n",
    "        bytecode_files = []\n",
    "        for filename in os.listdir(dir_string):\n",
    "            if filename.endswith('.bytes'):\n",
    "                bytecode_files.append(filename)\n",
    "        if len(bytecode_files) < 1:\n",
    "            msg = \"%r does not contain bytecode files (.bytes)\" % dir_string\n",
    "            raise argparse.ArgumentTypeError(msg)\n",
    "        return dir_string"
   ]
  },
  {
   "cell_type": "code",
   "execution_count": 7,
   "metadata": {},
   "outputs": [],
   "source": [
    "def load_images_for_prediction(bytecode_files, test_case_images_dir):\n",
    "    test_case_images = [ load_image_as_np(os.path.join(test_case_images_dir, (filename+'.png'))) for filename in bytecode_files ]\n",
    "    test_case_images_set = np.asarray(test_case_images)\n",
    "    test_case_images_set = test_case_images_set.astype('float32') / 255\n",
    "    return test_case_images_set"
   ]
  },
  {
   "cell_type": "code",
   "execution_count": 8,
   "metadata": {},
   "outputs": [],
   "source": [
    "def load_model(model_file):\n",
    "    return models.load_model(model_file)"
   ]
  },
  {
   "cell_type": "code",
   "execution_count": 9,
   "metadata": {},
   "outputs": [
    {
     "data": {
      "text/plain": [
       "_StoreAction(option_strings=['-d', '--directory', '--dir'], dest='directory', nargs=None, const=None, default=None, type=<function valid_dir at 0x7f60f55fa730>, choices=None, help=None, metavar='directory')"
      ]
     },
     "execution_count": 9,
     "metadata": {},
     "output_type": "execute_result"
    }
   ],
   "source": [
    "cmd_args_parser = argparse.ArgumentParser()\n",
    "cmd_args_parser.add_argument('-d', '--directory', '--dir', required=True, type=valid_dir, metavar='directory')"
   ]
  },
  {
   "cell_type": "code",
   "execution_count": 10,
   "metadata": {},
   "outputs": [],
   "source": [
    "# This code segment is only for Python notebooks\n",
    "# as it is not possible to pass arguments to Python \n",
    "# notebooks the way it will be done to Python scripts\n",
    "\n",
    "# The directory passed to the program can be set in \n",
    "# the string in the following line.\n",
    "\n",
    "arguments_list = \"-d /data/bytecodes/dataset2\".split()\n",
    "cmd_args = cmd_args_parser.parse_args(arguments_list)"
   ]
  },
  {
   "cell_type": "code",
   "execution_count": 11,
   "metadata": {},
   "outputs": [],
   "source": [
    "model_file = './final_trained_model.h5'\n",
    "bytecodes_dir = cmd_args.directory\n",
    "test_case_images_dir = os.path.join(bytecodes_dir, 'images')"
   ]
  },
  {
   "cell_type": "code",
   "execution_count": 12,
   "metadata": {},
   "outputs": [],
   "source": [
    "bytecode_files = [ os.path.splitext(os.path.basename(file))[0] for file in sorted( glob( os.path.abspath(bytecodes_dir)+'/*.bytes' ) ) ]"
   ]
  },
  {
   "cell_type": "code",
   "execution_count": 13,
   "metadata": {
    "scrolled": false
   },
   "outputs": [],
   "source": [
    "test_case_images_set = load_images_for_prediction(bytecode_files, test_case_images_dir)\n",
    "model = load_model(model_file)"
   ]
  },
  {
   "cell_type": "code",
   "execution_count": 14,
   "metadata": {},
   "outputs": [],
   "source": [
    "start_prediction = time.monotonic()\n",
    "\n",
    "predicted_labels_arr = model.predict_classes(test_case_images_set, batch_size=512)\n",
    "\n",
    "end_prediction = time.monotonic()"
   ]
  },
  {
   "cell_type": "code",
   "execution_count": 15,
   "metadata": {},
   "outputs": [],
   "source": [
    "predicted_labels = predicted_labels_arr.tolist()"
   ]
  },
  {
   "cell_type": "code",
   "execution_count": 16,
   "metadata": {},
   "outputs": [],
   "source": [
    "ramnit_image_dir = os.path.join( os.path.abspath(bytecodes_dir), 'ramnit', 'images' )\n",
    "ramnit_bytecodes_dir = os.path.join( os.path.abspath(bytecodes_dir), 'ramnit', 'bytecodes' )\n",
    "\n",
    "lollipop_image_dir = os.path.join( os.path.abspath(bytecodes_dir), 'lollipop', 'images' )\n",
    "lollipop_bytecodes_dir = os.path.join( os.path.abspath(bytecodes_dir), 'lollipop', 'bytecodes' )\n",
    "\n",
    "kelihos3_image_dir = os.path.join( os.path.abspath(bytecodes_dir), 'kelihos_ver3', 'images' )\n",
    "kelihos3_bytecodes_dir = os.path.join( os.path.abspath(bytecodes_dir), 'kelihos_ver3', 'bytecodes' )\n",
    "\n",
    "vundo_image_dir = os.path.join( os.path.abspath(bytecodes_dir), 'vundo', 'images' )\n",
    "vundo_bytecodes_dir = os.path.join( os.path.abspath(bytecodes_dir), 'vundo', 'bytecodes' )\n",
    "\n",
    "simda_image_dir = os.path.join( os.path.abspath(bytecodes_dir), 'simda', 'images' )\n",
    "simda_bytecodes_dir = os.path.join( os.path.abspath(bytecodes_dir), 'simda', 'bytecodes' )\n",
    "\n",
    "tracur_image_dir = os.path.join( os.path.abspath(bytecodes_dir), 'tracur', 'images' )\n",
    "tracur_bytecodes_dir = os.path.join( os.path.abspath(bytecodes_dir), 'tracur', 'bytecodes' )\n",
    "\n",
    "kelihos1_image_dir = os.path.join( os.path.abspath(bytecodes_dir), 'kelihos_ver1', 'images' )\n",
    "kelihos1_bytecodes_dir = os.path.join( os.path.abspath(bytecodes_dir), 'kelihos_ver1', 'bytecodes' )\n",
    "\n",
    "obfuscator_image_dir = os.path.join( os.path.abspath(bytecodes_dir), 'obfuscator_acy', 'images' )\n",
    "obfuscator_bytecodes_dir = os.path.join( os.path.abspath(bytecodes_dir), 'obfuscator_acy', 'bytecodes' )\n",
    "\n",
    "gatak_image_dir = os.path.join( os.path.abspath(bytecodes_dir), 'gatak', 'images' )\n",
    "gatak_bytecodes_dir = os.path.join( os.path.abspath(bytecodes_dir), 'gatak', 'bytecodes' )"
   ]
  },
  {
   "cell_type": "code",
   "execution_count": 17,
   "metadata": {},
   "outputs": [],
   "source": [
    "def create_dir(dirname):\n",
    "    if not os.path.exists(dirname):\n",
    "        os.makedirs(dirname, exist_ok=True)"
   ]
  },
  {
   "cell_type": "code",
   "execution_count": 18,
   "metadata": {},
   "outputs": [],
   "source": [
    "def destination_of_bytecode(label):\n",
    "    if label == 0:\n",
    "        return {\n",
    "            \"final_image_dir\": ramnit_image_dir,\n",
    "            \"final_bytecodes_dir\": ramnit_bytecodes_dir\n",
    "        }\n",
    "    if label == 1:\n",
    "        return {\n",
    "            \"final_image_dir\": lollipop_image_dir,\n",
    "            \"final_bytecodes_dir\": lollipop_bytecodes_dir\n",
    "        }\n",
    "    if label == 2:\n",
    "        return {\n",
    "            \"final_image_dir\": kelihos3_image_dir,\n",
    "            \"final_bytecodes_dir\": kelihos3_bytecodes_dir\n",
    "        }\n",
    "    if label == 3:\n",
    "        return {\n",
    "            \"final_image_dir\": vundo_image_dir,\n",
    "            \"final_bytecodes_dir\": vundo_bytecodes_dir\n",
    "        }\n",
    "    if label == 4:\n",
    "        return {\n",
    "            \"final_image_dir\": simda_image_dir,\n",
    "            \"final_bytecodes_dir\": simda_bytecodes_dir\n",
    "        }\n",
    "    if label == 5:\n",
    "        return {\n",
    "            \"final_image_dir\": tracur_image_dir,\n",
    "            \"final_bytecodes_dir\": tracur_bytecodes_dir\n",
    "        }\n",
    "    if label == 6:\n",
    "        return {\n",
    "            \"final_image_dir\": kelihos1_image_dir,\n",
    "            \"final_bytecodes_dir\": kelihos1_bytecodes_dir\n",
    "        }\n",
    "    if label == 7:\n",
    "        return {\n",
    "            \"final_image_dir\": obfuscator_image_dir,\n",
    "            \"final_bytecodes_dir\": obfuscator_bytecodes_dir\n",
    "        }\n",
    "    if label == 8:\n",
    "        return {\n",
    "            \"final_image_dir\": gatak_image_dir,\n",
    "            \"final_bytecodes_dir\": gatak_bytecodes_dir\n",
    "        }"
   ]
  },
  {
   "cell_type": "code",
   "execution_count": 19,
   "metadata": {},
   "outputs": [],
   "source": [
    "start_sorting = time.monotonic()    \n",
    "\n",
    "for i, file in enumerate(bytecode_files):\n",
    "    final_dirs = destination_of_bytecode(predicted_labels[i])\n",
    "    \n",
    "    create_dir(final_dirs[\"final_bytecodes_dir\"])\n",
    "    create_dir(final_dirs[\"final_image_dir\"])\n",
    "    \n",
    "    os.rename(os.path.join(bytecodes_dir, file+'.bytes'), os.path.join(final_dirs[\"final_bytecodes_dir\"], file+'.bytes'))\n",
    "    os.rename(os.path.join(test_case_images_dir, file+'.png'), os.path.join(final_dirs[\"final_image_dir\"], file+'.png'))\n",
    "        \n",
    "end_sorting = time.monotonic()"
   ]
  },
  {
   "cell_type": "code",
   "execution_count": 20,
   "metadata": {},
   "outputs": [],
   "source": [
    "shutil.rmtree(test_case_images_dir)"
   ]
  },
  {
   "cell_type": "code",
   "execution_count": 21,
   "metadata": {},
   "outputs": [
    {
     "name": "stdout",
     "output_type": "stream",
     "text": [
      "\n",
      "Malware Family Group  -  Number of samples\n",
      "Ramnit                -  395\n",
      "Lollipop              -  711\n",
      "Kelihos_ver3          -  823\n",
      "Vundo                 -  169\n",
      "Simda                 -  5\n",
      "Tracur                -  212\n",
      "Kelihos_ver1          -  137\n",
      "Obfuscator.ACY        -  318\n",
      "Gatak                 -  271\n",
      "\n",
      "Total                 -  3041\n",
      "\n",
      "\n",
      "Action                                                              -  Time taken (in seconds)\n",
      "Predict malware group malware belongs to                            -  38.282952527000816\n",
      "Time taken to sort malware samples into folder based on prediction  -  0.32967108599950734\n",
      "\n"
     ]
    }
   ],
   "source": [
    "# print('Time taken to sort bytecodes based on prediction (in seconds): ', (end_sorting - start_sorting))\n",
    "# print('Number of bytecodes: ', len(bytecode_files))\n",
    "# print()\n",
    "# print('Number of bytecodes identified as Ramnit: ', len(os.listdir(ramnit_bytecodes_dir)))\n",
    "# print('Number of bytecodes identified as Lollipop: ', len(os.listdir(lollipop_bytecodes_dir)))\n",
    "# print('Number of bytecodes identified as Kelihos_ver3: ', len(os.listdir(kelihos3_bytecodes_dir)))\n",
    "# print('Number of bytecodes identified as Vundo: ', len(os.listdir(vundo_bytecodes_dir)))\n",
    "# print('Number of bytecodes identified as Simda: ', len(os.listdir(simda_bytecodes_dir)))\n",
    "# print('Number of bytecodes identified as Tracur: ', len(os.listdir(tracur_bytecodes_dir)))\n",
    "# print('Number of bytecodes identified as Kelihos_ver1: ', len(os.listdir(kelihos1_bytecodes_dir)))\n",
    "# print('Number of bytecodes identified as Obfuscator.ACY: ', len(os.listdir(obfuscator_bytecodes_dir)))\n",
    "# print('Number of bytecodes identified as Gatak: ', len(os.listdir(gatak_bytecodes_dir)))\n",
    "# print()\n",
    "# print('Number of misclassified bytecodes: ', len(os.listdir(misclassified_bytecodes_dir)))\n",
    "# print()\n",
    "\n",
    "\n",
    "print()\n",
    "print('Malware Family Group  -  Number of samples')\n",
    "print('Ramnit                -  ' + str(len(os.listdir(ramnit_bytecodes_dir))))\n",
    "print('Lollipop              -  ' + str(len(os.listdir(lollipop_bytecodes_dir))))\n",
    "print('Kelihos_ver3          -  ' + str(len(os.listdir(kelihos3_bytecodes_dir))))\n",
    "print('Vundo                 -  ' + str(len(os.listdir(vundo_bytecodes_dir))))\n",
    "print('Simda                 -  ' + str(len(os.listdir(simda_bytecodes_dir))))\n",
    "print('Tracur                -  ' + str(len(os.listdir(tracur_bytecodes_dir))))\n",
    "print('Kelihos_ver1          -  ' + str(len(os.listdir(kelihos1_bytecodes_dir))))\n",
    "print('Obfuscator.ACY        -  ' + str(len(os.listdir(obfuscator_bytecodes_dir))))\n",
    "print('Gatak                 -  ' + str(len(os.listdir(gatak_bytecodes_dir))))\n",
    "print()\n",
    "# print('Misclassified         -  ' + str(len(os.listdir(misclassified_bytecodes_dir))))\n",
    "# print()\n",
    "print(\"Total                 -  \" + str(len(bytecode_files)))\n",
    "print()\n",
    "print()\n",
    "print(\"Action                                                              -  Time taken (in seconds)\")\n",
    "print(\"Predict malware group malware sample belongs to                            -  \" + str((end_prediction - start_prediction)))\n",
    "print(\"Time taken to sort malware samples into folder based on prediction  -  \" + str((end_sorting - start_sorting)))\n",
    "print()"
   ]
  },
  {
   "cell_type": "code",
   "execution_count": 22,
   "metadata": {},
   "outputs": [],
   "source": [
    "stats_list = [\n",
    "    'Malware Family Group,Number of samples' + \"\\n\", \n",
    "    'Ramnit,' + str(len(os.listdir(ramnit_bytecodes_dir))) + \"\\n\", \n",
    "    'Lollipop,' + str(len(os.listdir(lollipop_bytecodes_dir))) + \"\\n\", \n",
    "    'Kelihos_ver3,' + str(len(os.listdir(kelihos3_bytecodes_dir))) + \"\\n\", \n",
    "    'Vundo,' + str(len(os.listdir(vundo_bytecodes_dir))) + \"\\n\", \n",
    "    'Simda,' + str(len(os.listdir(simda_bytecodes_dir))) + \"\\n\", \n",
    "    'Tracur,' + str(len(os.listdir(tracur_bytecodes_dir))) + \"\\n\", \n",
    "    'Kelihos_ver1,' + str(len(os.listdir(kelihos1_bytecodes_dir))) + \"\\n\", \n",
    "    'Obfuscator.ACY,' + str(len(os.listdir(obfuscator_bytecodes_dir))) + \"\\n\", \n",
    "    'Gatak,' + str(len(os.listdir(gatak_bytecodes_dir))) + \"\\n\", \n",
    "    \"Total,\" + str(len(bytecode_files)) + \"\\n\",\n",
    "    \"\\n\",\n",
    "    \"\\n\",\n",
    "    \"Action, Time taken (in seconds)\" + \"\\n\", \n",
    "    \"Predict malware group malware sample belongs to,\" + str((end_prediction - start_prediction)) + \"\\n\",\n",
    "    \"Time taken to sort malware samples into folder based on prediction,\" + str((end_sorting - start_sorting))\n",
    "]\n",
    "\n",
    "with open(os.path.join(bytecodes_dir, 'statistics.csv'), 'w') as f:\n",
    "    for stats_line in stats_list:\n",
    "        f.write(stats_line)"
   ]
  }
 ],
 "metadata": {
  "kernelspec": {
   "display_name": "Python 3",
   "language": "python",
   "name": "python3"
  },
  "language_info": {
   "codemirror_mode": {
    "name": "ipython",
    "version": 3
   },
   "file_extension": ".py",
   "mimetype": "text/x-python",
   "name": "python",
   "nbconvert_exporter": "python",
   "pygments_lexer": "ipython3",
   "version": "3.6.8"
  }
 },
 "nbformat": 4,
 "nbformat_minor": 2
}
