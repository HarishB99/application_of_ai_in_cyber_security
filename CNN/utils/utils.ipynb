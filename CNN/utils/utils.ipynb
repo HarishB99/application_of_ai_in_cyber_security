{
 "cells": [
  {
   "cell_type": "markdown",
   "metadata": {},
   "source": [
    "## utils.py"
   ]
  },
  {
   "cell_type": "code",
   "execution_count": 1,
   "metadata": {},
   "outputs": [
    {
     "name": "stderr",
     "output_type": "stream",
     "text": [
      "Using TensorFlow backend.\n",
      "/opt/anaconda3/lib/python3.6/importlib/_bootstrap.py:219: RuntimeWarning: compiletime version 3.5 of module 'tensorflow.python.framework.fast_tensor_util' does not match runtime version 3.6\n",
      "  return f(*args, **kwds)\n"
     ]
    }
   ],
   "source": [
    "import os, array, itertools, sys, traceback, logging\n",
    "import numpy as np\n",
    "from PIL import Image\n",
    "from keras.preprocessing import image"
   ]
  },
  {
   "cell_type": "markdown",
   "metadata": {},
   "source": [
    "byte2img\n",
    "\n",
    "- Plots given bytecode file (consisting hexadecimal numbers without the PE header) to grayscale images\n",
    "- params\n",
    "    - filename - the path to the bytecode file to be converted\n",
    "- return\n",
    "    - img - An instance of a PIL Image representing the converted grayscale image"
   ]
  },
  {
   "cell_type": "code",
   "execution_count": 2,
   "metadata": {
    "collapsed": true
   },
   "outputs": [],
   "source": [
    "def byte2img(filename):\n",
    "    \"\"\"\n",
    "        - Plots given bytecode file (consisting hexadecimal numbers without the PE header) to grayscale images\n",
    "        - params\n",
    "            - filename - the path to the bytecode file to be converted\n",
    "        - return\n",
    "            - img - An instance of a PIL Image representing the converted grayscale image\n",
    "    \"\"\"\n",
    "    try:\n",
    "        with open(filename, 'r') as f:\n",
    "            arr = []\n",
    "            for line in f:\n",
    "                vals = line.split()\n",
    "                del vals[0]\n",
    "                arr.append(vals)\n",
    "            \n",
    "            max_len = max([len(vals) for vals in arr])\n",
    "            \n",
    "            new_arr = []\n",
    "            for vals in arr:\n",
    "                new_arr.append([val.replace('?', '0') for val in vals])\n",
    "            \n",
    "            for vals in new_arr:\n",
    "                if '?' in vals:\n",
    "                    print(vals)\n",
    "            \n",
    "            hexstring = ''.join(list(itertools.chain.from_iterable(new_arr)))\n",
    "            \n",
    "            byte_arr = bytearray.fromhex(hexstring)\n",
    "            width = 1024\n",
    "            rem = len(byte_arr) % width\n",
    "            byte_arr_len = len(byte_arr) - rem\n",
    "            byte_arr = byte_arr[:byte_arr_len]\n",
    "            byte_arr = np.asarray(byte_arr)\n",
    "            np_arr = np.reshape(byte_arr, (len(byte_arr)//width, width))\n",
    "            np_arr = np.uint8(np_arr)\n",
    "            img = Image.fromarray(np_arr)\n",
    "            return img\n",
    "    except Exception as error:\n",
    "        logging.error(traceback.format_exc())"
   ]
  },
  {
   "cell_type": "markdown",
   "metadata": {},
   "source": [
    "load_image_as_np\n",
    "- Loads an image from the filesystem as a 3D numpy array\n",
    "- params\n",
    "    - filename - the path to the image file to be loaded\n",
    "- return\n",
    "    - a 3D numpy array representing the loaded image"
   ]
  },
  {
   "cell_type": "code",
   "execution_count": 3,
   "metadata": {
    "collapsed": true
   },
   "outputs": [],
   "source": [
    "def load_image_as_np(filename):\n",
    "    \"\"\"\n",
    "        - Loads an image from the filesystem as a 3D numpy array\n",
    "        - params\n",
    "            - filename - the path to the image file to be loaded\n",
    "        - return\n",
    "            - a 3D numpy array representing the loaded image\n",
    "    \"\"\"\n",
    "    try:\n",
    "        img = image.load_img(filename, grayscale=True)  # for newer versions, use \"color_mode='grayscale'\" instead of \"grayscale=True\"\n",
    "        return np.atleast_3d(img)\n",
    "    except Exception as error:\n",
    "        logging.error(traceback.format_exc())"
   ]
  },
  {
   "cell_type": "markdown",
   "metadata": {},
   "source": [
    "resize_from_file\n",
    "- Resize an existing image from the filesystem to the specified size and save it back to the filesystem\n",
    "- params\n",
    "    - filename - the path to the image file to be resized\n",
    "    - dest - the path to the image file to write to (The directory should exist - The image need not exist)\n",
    "    - size - the dimension to resize the image to in the format (width, height) - default is 128 by 128\n",
    "- return\n",
    "    - None"
   ]
  },
  {
   "cell_type": "code",
   "execution_count": 4,
   "metadata": {
    "collapsed": true
   },
   "outputs": [],
   "source": [
    "def resize_from_file(filename, dest, size=(128, 128)):\n",
    "    \"\"\"\n",
    "        - Resize an existing image from the filesystem to the specified size and save it back to the filesystem\n",
    "        - params\n",
    "            - filename - the path to the image file to be resized\n",
    "            - dest - the path to the image file to write to (The directory should exist - The image need not exist)\n",
    "            - size - the dimension to resize the image to in the format (width, height) - default is 128 by 128\n",
    "        - return\n",
    "            - None\n",
    "    \"\"\"\n",
    "    try:\n",
    "        imgname = os.path.basename(filename)\n",
    "        img = image.load_img(filename, grayscale=True)  # for newer versions, use \"color_mode='grayscale'\" instead of \"grayscale=True\"\n",
    "        img = img.resize(size, Image.LANCZOS)\n",
    "        img.save(os.path.join(dest, imgname))\n",
    "    except Exception as error:\n",
    "        logging.error(traceback.format_exc())"
   ]
  },
  {
   "cell_type": "markdown",
   "metadata": {},
   "source": [
    "resize_from_img\n",
    "- Resize an existing PIL Image instance to the specified size and save it to the filesystem\n",
    "- params\n",
    "    - img - An instance of the PIL Image\n",
    "    - imgname - the path to the image file to write to (The directory should exist - The image need not exist)\n",
    "    - size - the dimension to resize the image to in the format (width, height) - default is 128 by 128\n",
    "- return\n",
    "    - None"
   ]
  },
  {
   "cell_type": "code",
   "execution_count": 5,
   "metadata": {
    "collapsed": true
   },
   "outputs": [],
   "source": [
    "def resize_from_img(img, imgname, size=(128, 128)):\n",
    "    \"\"\"\n",
    "        - Resize an existing PIL Image instance to the specified size and save it to the filesystem\n",
    "        - params\n",
    "            - img - An instance of the PIL Image\n",
    "            - imgname - the path to the image file to write to (The directory should exist - The image need not exist)\n",
    "            - size - the dimension to resize the image to in the format (width, height) - default is 128 by 128\n",
    "        - return\n",
    "            - None\n",
    "    \"\"\"\n",
    "    try:\n",
    "        img = img.resize(size, Image.LANCZOS)\n",
    "        img.save(imgname)\n",
    "    except Exception as error:\n",
    "        logging.error(traceback.format_exc())"
   ]
  }
 ],
 "metadata": {
  "kernelspec": {
   "display_name": "Python 3",
   "language": "python",
   "name": "python3"
  },
  "language_info": {
   "codemirror_mode": {
    "name": "ipython",
    "version": 3
   },
   "file_extension": ".py",
   "mimetype": "text/x-python",
   "name": "python",
   "nbconvert_exporter": "python",
   "pygments_lexer": "ipython3",
   "version": "3.6.7"
  }
 },
 "nbformat": 4,
 "nbformat_minor": 2
}
