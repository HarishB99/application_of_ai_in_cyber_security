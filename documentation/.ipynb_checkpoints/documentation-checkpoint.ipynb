{
 "cells": [
  {
   "cell_type": "markdown",
   "metadata": {},
   "source": [
    "## Read CSV files using Python"
   ]
  },
  {
   "cell_type": "markdown",
   "metadata": {},
   "source": [
    "It is quite common in the field of data science to find data that has been formatted as csv files with rows and columns. This makes it a lot easier to read, analyse and process the data more effectively. Hence, manipulating a csv file using Python can prove to be a useful skill for deep learning, which also happens to be a branch of data science."
   ]
  },
  {
   "cell_type": "markdown",
   "metadata": {},
   "source": [
    "Create a csv file named \"test.csv\" for the purpose of this example"
   ]
  },
  {
   "cell_type": "code",
   "execution_count": 1,
   "metadata": {},
   "outputs": [],
   "source": [
    "csv_file = './test.csv'"
   ]
  },
  {
   "cell_type": "code",
   "execution_count": 2,
   "metadata": {},
   "outputs": [],
   "source": [
    "with open(csv_file, 'w') as file:  # 'w' -> open the file in write mode\n",
    "    \n",
    "    # The header in the csv file describing the columns\n",
    "    header = ['Student_Name', 'Admin_No.']\n",
    "    \n",
    "    # the data rows\n",
    "    data = [['studentA', '123456A'], ['studentB', '123457B'], ['studentC', '123458C']]\n",
    "    \n",
    "    # A one-line Python statement that does the following:\n",
    "    #   1.    Join the strings in 'header' using ',' as a delimiter\n",
    "    #         output: 'Student_Name,Admin_No.'\n",
    "    #\n",
    "    #   2. a) Join each row in 'data' using ',' as a delimiter, \n",
    "    #         with the use of list comprehensions\n",
    "    #\n",
    "    #   2. b) Join each row (that has been joined into a string) \n",
    "    #         using the newline character, '\\n', as a delimiter\n",
    "    #   \n",
    "    #   3.    Join the results of steps 1 and 3 using the \n",
    "    #         newline character, '\\n', as a delimiter and store it in \n",
    "    #         io_string\n",
    "    io_string = ','.join(header) + '\\n' + '\\n'.join([ ','.join(row) for row in data ])\n",
    "    \n",
    "    # Write the final io_string to the csv file\n",
    "    file.write(io_string)"
   ]
  },
  {
   "cell_type": "markdown",
   "metadata": {},
   "source": [
    "Reading the file using Python's built-in file utility methods"
   ]
  },
  {
   "cell_type": "code",
   "execution_count": 3,
   "metadata": {},
   "outputs": [],
   "source": [
    "lines = []\n",
    "with open(csv_file, 'r') as file:   # 'r' -> open the file in read mode\n",
    "    for line in file:               # iterate through the lines in file\n",
    "        lines.append(line.strip())  # remove leading and trailing whitespace characters"
   ]
  },
  {
   "cell_type": "code",
   "execution_count": 4,
   "metadata": {},
   "outputs": [
    {
     "data": {
      "text/plain": [
       "['Student_Name,Admin_No.',\n",
       " 'studentA,123456A',\n",
       " 'studentB,123457B',\n",
       " 'studentC,123458C']"
      ]
     },
     "execution_count": 4,
     "metadata": {},
     "output_type": "execute_result"
    }
   ],
   "source": [
    "lines"
   ]
  },
  {
   "cell_type": "markdown",
   "metadata": {},
   "source": [
    "A much shorter way of performing the above using list comprehensions is shown below.\n",
    "<br/>One can search for 'list comprehension python' on Google to learn more about list comprehensions in python"
   ]
  },
  {
   "cell_type": "code",
   "execution_count": 5,
   "metadata": {},
   "outputs": [],
   "source": [
    "with open(csv_file, 'r') as file:\n",
    "    lines = [line.strip() for line in file]  # List comprehension in action"
   ]
  },
  {
   "cell_type": "code",
   "execution_count": 6,
   "metadata": {},
   "outputs": [
    {
     "data": {
      "text/plain": [
       "['Student_Name,Admin_No.',\n",
       " 'studentA,123456A',\n",
       " 'studentB,123457B',\n",
       " 'studentC,123458C']"
      ]
     },
     "execution_count": 6,
     "metadata": {},
     "output_type": "execute_result"
    }
   ],
   "source": [
    "lines"
   ]
  },
  {
   "cell_type": "markdown",
   "metadata": {},
   "source": [
    "Split the data, read from the csv file, into header and rows"
   ]
  },
  {
   "cell_type": "code",
   "execution_count": 7,
   "metadata": {},
   "outputs": [],
   "source": [
    "header = lines[0]  # The first row\n",
    "rows = lines[1:]   # All the other rows"
   ]
  },
  {
   "cell_type": "markdown",
   "metadata": {},
   "source": [
    "Split the headers and rows by column"
   ]
  },
  {
   "cell_type": "code",
   "execution_count": 8,
   "metadata": {},
   "outputs": [],
   "source": [
    "header = header.split(',')\n",
    "rows = [row.split(',') for row in rows]"
   ]
  },
  {
   "cell_type": "code",
   "execution_count": 9,
   "metadata": {},
   "outputs": [
    {
     "data": {
      "text/plain": [
       "['Student_Name', 'Admin_No.']"
      ]
     },
     "execution_count": 9,
     "metadata": {},
     "output_type": "execute_result"
    }
   ],
   "source": [
    "header"
   ]
  },
  {
   "cell_type": "code",
   "execution_count": 10,
   "metadata": {},
   "outputs": [
    {
     "data": {
      "text/plain": [
       "[['studentA', '123456A'], ['studentB', '123457B'], ['studentC', '123458C']]"
      ]
     },
     "execution_count": 10,
     "metadata": {},
     "output_type": "execute_result"
    }
   ],
   "source": [
    "rows"
   ]
  },
  {
   "cell_type": "markdown",
   "metadata": {},
   "source": [
    "Let's do the above with 'pandas' instead\n",
    "\n",
    "Import the 'pandas' module\n",
    "<br/>If this module could not be found, install using conda, like so:\n",
    "    \n",
    "    conda install -c anaconda pandas -y"
   ]
  },
  {
   "cell_type": "code",
   "execution_count": 11,
   "metadata": {},
   "outputs": [],
   "source": [
    "import pandas as pd"
   ]
  },
  {
   "cell_type": "code",
   "execution_count": 12,
   "metadata": {},
   "outputs": [],
   "source": [
    "csv_data = pd.read_csv(csv_file)"
   ]
  },
  {
   "cell_type": "markdown",
   "metadata": {},
   "source": [
    "Access the header"
   ]
  },
  {
   "cell_type": "code",
   "execution_count": 13,
   "metadata": {},
   "outputs": [
    {
     "name": "stdout",
     "output_type": "stream",
     "text": [
      "Index(['Student_Name', 'Admin_No.'], dtype='object')\n"
     ]
    }
   ],
   "source": [
    "print(csv_data.columns)  # Returns an iterable object"
   ]
  },
  {
   "cell_type": "markdown",
   "metadata": {},
   "source": [
    "Access the rows"
   ]
  },
  {
   "cell_type": "code",
   "execution_count": 14,
   "metadata": {},
   "outputs": [
    {
     "name": "stdout",
     "output_type": "stream",
     "text": [
      "[['studentA' '123456A']\n",
      " ['studentB' '123457B']\n",
      " ['studentC' '123458C']]\n"
     ]
    }
   ],
   "source": [
    "print(csv_data.get_values())"
   ]
  },
  {
   "cell_type": "markdown",
   "metadata": {},
   "source": [
    "As you can see, reading and accessing the header and rows of the csv_file uses very few lines of code with pandas"
   ]
  },
  {
   "cell_type": "markdown",
   "metadata": {},
   "source": [
    "Although not covered in this documentation, you might also want to take a look at dictionary comprehensions in Python as well. List comprehensions and dictionary comprehensions help to create new lists and dictionaries respectively by manipulating items in the original list / dictionary."
   ]
  },
  {
   "cell_type": "markdown",
   "metadata": {},
   "source": [
    "## Preprocessing data (CNNs)"
   ]
  },
  {
   "cell_type": "markdown",
   "metadata": {},
   "source": [
    "For this project (in 2018/2019 Period 4), the task was to plot the bytecodes present in the \"Microsoft Malware Classification Challenge (BIG 2015)\" dataset into grayscale images. This section will walk through the steps taken to perform this, as it can be useful for a similar problem in the future."
   ]
  },
  {
   "cell_type": "code",
   "execution_count": 15,
   "metadata": {},
   "outputs": [
    {
     "name": "stderr",
     "output_type": "stream",
     "text": [
      "Using TensorFlow backend.\n"
     ]
    }
   ],
   "source": [
    "import os, itertools, traceback, logging\n",
    "import numpy as np\n",
    "from PIL import Image\n",
    "from keras.preprocessing import image"
   ]
  },
  {
   "cell_type": "code",
   "execution_count": 16,
   "metadata": {},
   "outputs": [],
   "source": [
    "def byte2img(filename):\n",
    "    \"\"\"\n",
    "        - Plots given bytecode file (consisting hexadecimal numbers without the PE header) to grayscale images\n",
    "        - params\n",
    "            - filename - the path to the bytecode file to be converted\n",
    "        - return\n",
    "            - img - An instance of a PIL Image representing the converted grayscale image\n",
    "    \"\"\"\n",
    "    try:\n",
    "        with open(filename, 'r') as f:\n",
    "            arr = []\n",
    "            for line in f:\n",
    "                vals = line.split()\n",
    "                del vals[0]\n",
    "                arr.append(vals)\n",
    "            \n",
    "            max_len = max([len(vals) for vals in arr])\n",
    "            \n",
    "            new_arr = []\n",
    "            for vals in arr:\n",
    "                new_arr.append([val.replace('?', '0') for val in vals])\n",
    "            \n",
    "            for vals in new_arr:\n",
    "                if '?' in vals:\n",
    "                    print(vals)\n",
    "            \n",
    "            hexstring = ''.join(list(itertools.chain.from_iterable(new_arr)))\n",
    "            \n",
    "            byte_arr = bytearray.fromhex(hexstring)\n",
    "            width = 1024\n",
    "            rem = len(byte_arr) % width\n",
    "            byte_arr_len = len(byte_arr) - rem\n",
    "            byte_arr = byte_arr[:byte_arr_len]\n",
    "            byte_arr = np.asarray(byte_arr)\n",
    "            np_arr = np.reshape(byte_arr, (len(byte_arr)//width, width))\n",
    "            np_arr = np.uint8(np_arr)\n",
    "            img = Image.fromarray(np_arr)\n",
    "            return img\n",
    "    except Exception as error:\n",
    "        logging.error(traceback.format_exc())"
   ]
  },
  {
   "cell_type": "code",
   "execution_count": 17,
   "metadata": {},
   "outputs": [],
   "source": [
    "def load_image_as_np(filename):\n",
    "    \"\"\"\n",
    "        - Loads an image from the filesystem as a 3D numpy array\n",
    "        - params\n",
    "            - filename - the path to the image file to be loaded\n",
    "        - return\n",
    "            - a 3D numpy array representing the loaded image\n",
    "    \"\"\"\n",
    "    try:\n",
    "        img = image.load_img(filename, color_mode='grayscale')  # for older versions, use \"grayscale=True\" instead of \"color_mode='grayscale'\"\n",
    "        return np.atleast_3d(img)\n",
    "    except Exception as error:\n",
    "        logging.error(traceback.format_exc())"
   ]
  },
  {
   "cell_type": "code",
   "execution_count": 18,
   "metadata": {},
   "outputs": [],
   "source": [
    "def resize_from_file(filename, dest, size=(128, 128)):\n",
    "    \"\"\"\n",
    "        - Resize an existing image from the filesystem to the specified size and save it back to the filesystem\n",
    "        - params\n",
    "            - filename - the path to the image file to be resized\n",
    "            - dest - the path to the image file to write to (The directory should exist - The image need not exist)\n",
    "            - size - the dimension to resize the image to in the format (width, height) - default is 128 by 128\n",
    "        - return\n",
    "            - None\n",
    "    \"\"\"\n",
    "    try:\n",
    "        imgname = os.path.basename(filename)\n",
    "        img = image.load_img(filename, color_mode='grayscale')  # for older versions, use \"grayscale=True\" instead of \"color_mode='grayscale'\"\n",
    "        img = img.resize(size, Image.LANCZOS)\n",
    "        img.save(os.path.join(dest, imgname))\n",
    "    except Exception as error:\n",
    "        logging.error(traceback.format_exc())"
   ]
  },
  {
   "cell_type": "code",
   "execution_count": 19,
   "metadata": {},
   "outputs": [],
   "source": [
    "byte_file = './01azqd4InC7m9JpocGv5.bytes'"
   ]
  },
  {
   "cell_type": "code",
   "execution_count": 20,
   "metadata": {},
   "outputs": [],
   "source": [
    "plotted_image = byte2img(byte_file)"
   ]
  },
  {
   "cell_type": "code",
   "execution_count": 22,
   "metadata": {},
   "outputs": [],
   "source": [
    "# Just the file name, without the extension and path\n",
    "byte_file_name = os.path.splitext(os.path.basename(byte_file))[0]"
   ]
  },
  {
   "cell_type": "code",
   "execution_count": 23,
   "metadata": {},
   "outputs": [],
   "source": [
    "plotted_image.save(os.path.abspath('./'+byte_file_name+'.png'))"
   ]
  },
  {
   "cell_type": "code",
   "execution_count": 24,
   "metadata": {},
   "outputs": [],
   "source": [
    "image_file = './01azqd4InC7m9JpocGv5.png'"
   ]
  },
  {
   "cell_type": "code",
   "execution_count": 26,
   "metadata": {},
   "outputs": [],
   "source": [
    "image_file_name = os.path.splitext(os.path.basename(image_file))[0]"
   ]
  },
  {
   "cell_type": "code",
   "execution_count": 27,
   "metadata": {},
   "outputs": [],
   "source": [
    "resized_image_dir = './resized'"
   ]
  },
  {
   "cell_type": "code",
   "execution_count": 28,
   "metadata": {},
   "outputs": [],
   "source": [
    "if not os.path.exists(resized_image_dir):\n",
    "    os.mkdir('./resized')"
   ]
  },
  {
   "cell_type": "code",
   "execution_count": 29,
   "metadata": {},
   "outputs": [],
   "source": [
    "resize_from_file(image_file, resized_image_dir, size=(256, 256))"
   ]
  },
  {
   "cell_type": "code",
   "execution_count": 30,
   "metadata": {},
   "outputs": [],
   "source": [
    "image_from_fs = load_image_as_np(os.path.join(resized_image_dir, image_file))"
   ]
  },
  {
   "cell_type": "code",
   "execution_count": null,
   "metadata": {},
   "outputs": [],
   "source": []
  }
 ],
 "metadata": {
  "kernelspec": {
   "display_name": "Python 3",
   "language": "python",
   "name": "python3"
  },
  "language_info": {
   "codemirror_mode": {
    "name": "ipython",
    "version": 3
   },
   "file_extension": ".py",
   "mimetype": "text/x-python",
   "name": "python",
   "nbconvert_exporter": "python",
   "pygments_lexer": "ipython3",
   "version": "3.6.6"
  }
 },
 "nbformat": 4,
 "nbformat_minor": 2
}
